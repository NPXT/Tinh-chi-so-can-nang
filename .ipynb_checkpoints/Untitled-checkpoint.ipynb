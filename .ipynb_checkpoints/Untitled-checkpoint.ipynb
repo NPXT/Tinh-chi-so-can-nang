{
 "cells": [
  {
   "cell_type": "code",
   "execution_count": 1,
   "id": "891b7618",
   "metadata": {},
   "outputs": [
    {
     "name": "stdout",
     "output_type": "stream",
     "text": [
      "Mời bạn nhập cân nặng theo KG: 42.5\n",
      "Mời bạn nhập chiều cao theo M: 1.51\n",
      " Gầy cấp độ III\n",
      " BMI của bạn = 1.4581999999999997\n"
     ]
    }
   ],
   "source": [
    "cannang= float(input(\"Mời bạn nhập cân nặng theo KG: \"))\n",
    "chieucao= float(input(\"Mời bạn nhập chiều cao theo M: \"))\n",
    "BMI= cannang % (chieucao**2)\n",
    "if BMI < 16 :\n",
    "    print(\" Gầy cấp độ III\")\n",
    "elif 16<= BMI <17 :\n",
    "    print(\" Gầy cấp độ II\")\n",
    "elif 17<= BMI < 18.5 :\n",
    "    print(\" Gầy cấp độ I\")\n",
    "elif 18.5<= BMI <25 :\n",
    "    print(\" Bình thường\")\n",
    "elif 25<= BMI <30 :\n",
    "    print(\" Thừa cân\")\n",
    "elif 30<= BMI <35 :\n",
    "    print(\" Béo phì cấp độ I\")\n",
    "elif 35<= BMI < 40 :\n",
    "    print(\" Béo phì cấp độ II\")\n",
    "elif BMI > 40 :\n",
    "    print(\"Béo phì cấp độ III\")\n",
    "print(\" BMI của bạn =\",BMI )"
   ]
  },
  {
   "cell_type": "code",
   "execution_count": null,
   "id": "754e9813",
   "metadata": {},
   "outputs": [],
   "source": []
  }
 ],
 "metadata": {
  "kernelspec": {
   "display_name": "Python 3 (ipykernel)",
   "language": "python",
   "name": "python3"
  },
  "language_info": {
   "codemirror_mode": {
    "name": "ipython",
    "version": 3
   },
   "file_extension": ".py",
   "mimetype": "text/x-python",
   "name": "python",
   "nbconvert_exporter": "python",
   "pygments_lexer": "ipython3",
   "version": "3.9.12"
  }
 },
 "nbformat": 4,
 "nbformat_minor": 5
}
